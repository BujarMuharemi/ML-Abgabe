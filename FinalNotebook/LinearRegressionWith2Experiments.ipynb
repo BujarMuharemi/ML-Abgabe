{
 "cells": [
  {
   "cell_type": "code",
   "execution_count": 52,
   "metadata": {},
   "outputs": [
    {
     "data": {
      "text/html": [
       "<div>\n",
       "<style scoped>\n",
       "    .dataframe tbody tr th:only-of-type {\n",
       "        vertical-align: middle;\n",
       "    }\n",
       "\n",
       "    .dataframe tbody tr th {\n",
       "        vertical-align: top;\n",
       "    }\n",
       "\n",
       "    .dataframe thead th {\n",
       "        text-align: right;\n",
       "    }\n",
       "</style>\n",
       "<table border=\"1\" class=\"dataframe\">\n",
       "  <thead>\n",
       "    <tr style=\"text-align: right;\">\n",
       "      <th></th>\n",
       "      <th>instant</th>\n",
       "      <th>dteday</th>\n",
       "      <th>season</th>\n",
       "      <th>yr</th>\n",
       "      <th>mnth</th>\n",
       "      <th>holiday</th>\n",
       "      <th>weekday</th>\n",
       "      <th>workingday</th>\n",
       "      <th>weathersit</th>\n",
       "      <th>temp</th>\n",
       "      <th>atemp</th>\n",
       "      <th>hum</th>\n",
       "      <th>windspeed</th>\n",
       "      <th>casual</th>\n",
       "      <th>registered</th>\n",
       "      <th>cnt</th>\n",
       "    </tr>\n",
       "  </thead>\n",
       "  <tbody>\n",
       "    <tr>\n",
       "      <th>0</th>\n",
       "      <td>1</td>\n",
       "      <td>2011-01-01</td>\n",
       "      <td>1</td>\n",
       "      <td>0</td>\n",
       "      <td>1</td>\n",
       "      <td>0</td>\n",
       "      <td>6</td>\n",
       "      <td>0</td>\n",
       "      <td>2</td>\n",
       "      <td>0.344167</td>\n",
       "      <td>0.363625</td>\n",
       "      <td>0.805833</td>\n",
       "      <td>0.160446</td>\n",
       "      <td>331</td>\n",
       "      <td>654</td>\n",
       "      <td>985</td>\n",
       "    </tr>\n",
       "    <tr>\n",
       "      <th>1</th>\n",
       "      <td>2</td>\n",
       "      <td>2011-01-02</td>\n",
       "      <td>1</td>\n",
       "      <td>0</td>\n",
       "      <td>1</td>\n",
       "      <td>0</td>\n",
       "      <td>0</td>\n",
       "      <td>0</td>\n",
       "      <td>2</td>\n",
       "      <td>0.363478</td>\n",
       "      <td>0.353739</td>\n",
       "      <td>0.696087</td>\n",
       "      <td>0.248539</td>\n",
       "      <td>131</td>\n",
       "      <td>670</td>\n",
       "      <td>801</td>\n",
       "    </tr>\n",
       "    <tr>\n",
       "      <th>2</th>\n",
       "      <td>3</td>\n",
       "      <td>2011-01-03</td>\n",
       "      <td>1</td>\n",
       "      <td>0</td>\n",
       "      <td>1</td>\n",
       "      <td>0</td>\n",
       "      <td>1</td>\n",
       "      <td>1</td>\n",
       "      <td>1</td>\n",
       "      <td>0.196364</td>\n",
       "      <td>0.189405</td>\n",
       "      <td>0.437273</td>\n",
       "      <td>0.248309</td>\n",
       "      <td>120</td>\n",
       "      <td>1229</td>\n",
       "      <td>1349</td>\n",
       "    </tr>\n",
       "    <tr>\n",
       "      <th>3</th>\n",
       "      <td>4</td>\n",
       "      <td>2011-01-04</td>\n",
       "      <td>1</td>\n",
       "      <td>0</td>\n",
       "      <td>1</td>\n",
       "      <td>0</td>\n",
       "      <td>2</td>\n",
       "      <td>1</td>\n",
       "      <td>1</td>\n",
       "      <td>0.200000</td>\n",
       "      <td>0.212122</td>\n",
       "      <td>0.590435</td>\n",
       "      <td>0.160296</td>\n",
       "      <td>108</td>\n",
       "      <td>1454</td>\n",
       "      <td>1562</td>\n",
       "    </tr>\n",
       "    <tr>\n",
       "      <th>4</th>\n",
       "      <td>5</td>\n",
       "      <td>2011-01-05</td>\n",
       "      <td>1</td>\n",
       "      <td>0</td>\n",
       "      <td>1</td>\n",
       "      <td>0</td>\n",
       "      <td>3</td>\n",
       "      <td>1</td>\n",
       "      <td>1</td>\n",
       "      <td>0.226957</td>\n",
       "      <td>0.229270</td>\n",
       "      <td>0.436957</td>\n",
       "      <td>0.186900</td>\n",
       "      <td>82</td>\n",
       "      <td>1518</td>\n",
       "      <td>1600</td>\n",
       "    </tr>\n",
       "  </tbody>\n",
       "</table>\n",
       "</div>"
      ],
      "text/plain": [
       "   instant      dteday  season  yr  mnth  holiday  weekday  workingday  \\\n",
       "0        1  2011-01-01       1   0     1        0        6           0   \n",
       "1        2  2011-01-02       1   0     1        0        0           0   \n",
       "2        3  2011-01-03       1   0     1        0        1           1   \n",
       "3        4  2011-01-04       1   0     1        0        2           1   \n",
       "4        5  2011-01-05       1   0     1        0        3           1   \n",
       "\n",
       "   weathersit      temp     atemp       hum  windspeed  casual  registered  \\\n",
       "0           2  0.344167  0.363625  0.805833   0.160446     331         654   \n",
       "1           2  0.363478  0.353739  0.696087   0.248539     131         670   \n",
       "2           1  0.196364  0.189405  0.437273   0.248309     120        1229   \n",
       "3           1  0.200000  0.212122  0.590435   0.160296     108        1454   \n",
       "4           1  0.226957  0.229270  0.436957   0.186900      82        1518   \n",
       "\n",
       "    cnt  \n",
       "0   985  \n",
       "1   801  \n",
       "2  1349  \n",
       "3  1562  \n",
       "4  1600  "
      ]
     },
     "execution_count": 52,
     "metadata": {},
     "output_type": "execute_result"
    }
   ],
   "source": [
    "import matplotlib.pyplot as plt\n",
    "import seaborn as sns\n",
    "import math\n",
    "import numpy as np\n",
    "\n",
    "#1.Reading the Dataset BikeSharingDay\n",
    "import csv\n",
    "import pandas as pd\n",
    "\n",
    "#Import Matplotlib for the Plotting\n",
    "import matplotlib as plt\n",
    "%matplotlib inline\n",
    "\n",
    "#Dataset BikeSharing\n",
    "filename='BikeSharingDay.csv'\n",
    "\n",
    "#Reading the CSV-File as dataframe\n",
    "dataframe = pd.read_csv(filename)\n",
    "\n",
    "#print the head of the dataset\n",
    "dataframe.head()"
   ]
  },
  {
   "cell_type": "code",
   "execution_count": 53,
   "metadata": {},
   "outputs": [
    {
     "data": {
      "text/plain": [
       "instant         int64\n",
       "dteday         object\n",
       "season          int64\n",
       "yr              int64\n",
       "mnth            int64\n",
       "holiday         int64\n",
       "weekday         int64\n",
       "workingday      int64\n",
       "weathersit      int64\n",
       "temp          float64\n",
       "atemp         float64\n",
       "hum           float64\n",
       "windspeed     float64\n",
       "casual          int64\n",
       "registered      int64\n",
       "cnt             int64\n",
       "dtype: object"
      ]
     },
     "execution_count": 53,
     "metadata": {},
     "output_type": "execute_result"
    }
   ],
   "source": [
    "#List the Data types to See the changes\n",
    "dataframe.dtypes"
   ]
  },
  {
   "cell_type": "code",
   "execution_count": 54,
   "metadata": {},
   "outputs": [
    {
     "data": {
      "text/plain": [
       "<matplotlib.collections.PathCollection at 0x280229585e0>"
      ]
     },
     "execution_count": 54,
     "metadata": {},
     "output_type": "execute_result"
    },
    {
     "data": {
      "image/png": "[encoded data removed]",
      "text/plain": [
       "<Figure size 720x360 with 1 Axes>"
      ]
     },
     "metadata": {
      "needs_background": "light"
     },
     "output_type": "display_data"
    }
   ],
   "source": [
    "#Da uns auffält das atemp und temp sehr stark mit einander korrelieren\n",
    "# betrachte wir die zwei Attribute genauer\n",
    "fig = plt.pyplot.figure(figsize=(10,5))\n",
    "plt1 = fig.add_subplot(121)\n",
    "plt1.set_title('atemp vs temp')\n",
    "plt1.scatter(dataframe[\"atemp\"], dataframe[\"temp\"])"
   ]
  },
  {
   "cell_type": "code",
   "execution_count": 55,
   "metadata": {},
   "outputs": [
    {
     "name": "stdout",
     "output_type": "stream",
     "text": [
      "Kendall Tau Rank correlation (season & weathersit):  0.004939843958952154\n"
     ]
    }
   ],
   "source": [
    "#Korrolation zwischen zwei Ordinale Attribute mit Kendall Tau\n",
    "import scipy.stats as stats\n",
    "\n",
    "tau, p_value = stats.kendalltau(dataframe['season'], dataframe['weathersit'])\n",
    "print ('Kendall Tau Rank correlation (season & weathersit): ', tau)\n"
   ]
  },
  {
   "cell_type": "code",
   "execution_count": 56,
   "metadata": {},
   "outputs": [],
   "source": [
    "# erstelle das Kartesische Produkt von Season und WeatherSit\n",
    "from itertools import product\n",
    "\n",
    "season = dataframe['season']\n",
    "schluesselSeason, haeufigkeitSeason = np.unique(season.astype(int), return_counts = True)\n",
    "\n",
    "wheathersit = dataframe['weathersit']\n",
    "schluesselwheathersit, haeufigkeitwheathersit = np.unique(season.astype(int), return_counts = True)\n",
    "\n",
    "kart = list(product(schluesselSeason, schluesselwheathersit))\n",
    "\n",
    "seasonWithWeatherSit = np.zeros(len(season))\n",
    "\n",
    "indexOfNewAttribut = 0 \n",
    "for i in range(len(season)):\n",
    "    for k in range(len(wheathersit)):\n",
    "        if indexOfNewAttribut > 730:\n",
    "            break\n",
    "        if season[i] == 1 and wheathersit[k] == 1:\n",
    "            seasonWithWeatherSit[indexOfNewAttribut] = 1\n",
    "        if season[i] == 1 and wheathersit[k] == 2:\n",
    "            seasonWithWeatherSit[indexOfNewAttribut] = 2\n",
    "        if season[i] == 1 and wheathersit[k] == 3:\n",
    "            seasonWithWeatherSit[indexOfNewAttribut] = 3\n",
    "        if season[i] == 1 and wheathersit[k] == 4:\n",
    "            seasonWithWeatherSit[indexOfNewAttribut] = 4\n",
    "        if season[i] == 2 and wheathersit[k] == 1:\n",
    "            seasonWithWeatherSit[indexOfNewAttribut] = 5\n",
    "        if season[i] == 2 and wheathersit[k] == 2:\n",
    "            seasonWithWeatherSit[indexOfNewAttribut] = 6\n",
    "        if season[i] == 2 and wheathersit[k] == 3:\n",
    "            seasonWithWeatherSit[indexOfNewAttribut] = 7\n",
    "        if season[i] == 2 and wheathersit[k] == 4:\n",
    "            seasonWithWeatherSit[indexOfNewAttribut] = 8\n",
    "        if season[i] == 3 and wheathersit[k] == 1:\n",
    "            seasonWithWeatherSit[indexOfNewAttribut] = 9\n",
    "        if season[i] == 3 and wheathersit[k] == 2:\n",
    "            seasonWithWeatherSit[indexOfNewAttribut] = 10\n",
    "        if season[i] == 3 and wheathersit[k] == 3:\n",
    "            seasonWithWeatherSit[indexOfNewAttribut] = 11\n",
    "        if season[i] == 3 and wheathersit[k] == 4:\n",
    "            seasonWithWeatherSit[indexOfNewAttribut] = 12\n",
    "        if season[i] == 4 and wheathersit[k] == 1:\n",
    "            seasonWithWeatherSit[indexOfNewAttribut] = 13\n",
    "        if season[i] == 4 and wheathersit[k] == 2:\n",
    "            seasonWithWeatherSit[indexOfNewAttribut] = 14\n",
    "        if season[i] == 4 and wheathersit[k] == 3:\n",
    "            seasonWithWeatherSit[indexOfNewAttribut] = 15\n",
    "        if season[i] == 4 and wheathersit[k] == 4:\n",
    "            seasonWithWeatherSit[indexOfNewAttribut] = 16\n",
    "        indexOfNewAttribut = indexOfNewAttribut + 1"
   ]
  },
  {
   "cell_type": "code",
   "execution_count": 57,
   "metadata": {},
   "outputs": [
    {
     "name": "stdout",
     "output_type": "stream",
     "text": [
      "R2 (Correlation coefficient ):  0.7969806734307076\n",
      "Mean absolute error:  644.3750930704\n",
      "Root mean squared error:  853.0350122668555\n",
      "Max Error:  3593.8736683440966\n"
     ]
    },
    {
     "data": {
      "image/png": "[encoded data removed]",
      "text/plain": [
       "<Figure size 432x288 with 1 Axes>"
      ]
     },
     "metadata": {
      "needs_background": "light"
     },
     "output_type": "display_data"
    }
   ],
   "source": [
    "#1. Experiment Ohne kartesisches Produkt von Season und WheaterSit\n",
    "\n",
    "from sklearn.linear_model import LinearRegression\n",
    "from sklearn.metrics import mean_squared_error\n",
    "from sklearn.model_selection import train_test_split\n",
    "from sklearn.metrics import mean_absolute_error, accuracy_score, r2_score, max_error\n",
    "import math\n",
    "\n",
    "dataframe_y = dataframe.cnt\n",
    "dataframe_X = dataframe.drop(['instant','cnt','registered','casual','dteday','weekday','mnth', 'atemp'], axis=1)\n",
    "\n",
    "x_train, x_test, y_train, y_test = train_test_split(dataframe_X, dataframe_y, test_size = 0.2, random_state = 3)\n",
    "\n",
    "model = LinearRegression()\n",
    "\n",
    "# 6. Model füllen mit train daten\n",
    "model.fit(x_train, y_train)\n",
    "\n",
    "# 7. Vorhersage mit Testdaten\n",
    "y_vorhersage = model.predict(x_test)\n",
    "\n",
    "r2Score = r2_score(y_test, y_vorhersage)\n",
    "print('R2 (Correlation coefficient ): ', r2Score)\n",
    "\n",
    "mae = mean_absolute_error(y_test, y_vorhersage)\n",
    "print('Mean absolute error: ', mae)\n",
    "    \n",
    "mse = mean_squared_error(y_test, y_vorhersage,squared=True)\n",
    "mse = math.sqrt(mse)\n",
    "print('Root mean squared error: ', mse)\n",
    "    \n",
    "maxerror = max_error(y_test, y_vorhersage)\n",
    "print('Max Error: ', maxerror)\n",
    "    \n",
    "plt.pyplot.scatter(y_vorhersage, y_test)\n",
    "    \n",
    "minimum = math.ceil(min(y_test))\n",
    "maximum = math.ceil(max(y_test))\n",
    "    \n",
    "plt.pyplot.plot( [minimum,maximum],[minimum,maximum], color='red')\n",
    "plt.pyplot.xlabel('Vorhersage')\n",
    "plt.pyplot.ylabel('korrekter Werte')\n",
    "plt.pyplot.show()"
   ]
  },
  {
   "cell_type": "code",
   "execution_count": 58,
   "metadata": {},
   "outputs": [
    {
     "data": {
      "text/html": [
       "<div>\n",
       "<style scoped>\n",
       "    .dataframe tbody tr th:only-of-type {\n",
       "        vertical-align: middle;\n",
       "    }\n",
       "\n",
       "    .dataframe tbody tr th {\n",
       "        vertical-align: top;\n",
       "    }\n",
       "\n",
       "    .dataframe thead th {\n",
       "        text-align: right;\n",
       "    }\n",
       "</style>\n",
       "<table border=\"1\" class=\"dataframe\">\n",
       "  <thead>\n",
       "    <tr style=\"text-align: right;\">\n",
       "      <th></th>\n",
       "      <th>season</th>\n",
       "      <th>yr</th>\n",
       "      <th>holiday</th>\n",
       "      <th>workingday</th>\n",
       "      <th>weathersit</th>\n",
       "      <th>temp</th>\n",
       "      <th>hum</th>\n",
       "      <th>windspeed</th>\n",
       "    </tr>\n",
       "  </thead>\n",
       "  <tbody>\n",
       "    <tr>\n",
       "      <th>0</th>\n",
       "      <td>1</td>\n",
       "      <td>0</td>\n",
       "      <td>0</td>\n",
       "      <td>0</td>\n",
       "      <td>2</td>\n",
       "      <td>0.344167</td>\n",
       "      <td>0.805833</td>\n",
       "      <td>0.160446</td>\n",
       "    </tr>\n",
       "    <tr>\n",
       "      <th>1</th>\n",
       "      <td>1</td>\n",
       "      <td>0</td>\n",
       "      <td>0</td>\n",
       "      <td>0</td>\n",
       "      <td>2</td>\n",
       "      <td>0.363478</td>\n",
       "      <td>0.696087</td>\n",
       "      <td>0.248539</td>\n",
       "    </tr>\n",
       "    <tr>\n",
       "      <th>2</th>\n",
       "      <td>1</td>\n",
       "      <td>0</td>\n",
       "      <td>0</td>\n",
       "      <td>1</td>\n",
       "      <td>1</td>\n",
       "      <td>0.196364</td>\n",
       "      <td>0.437273</td>\n",
       "      <td>0.248309</td>\n",
       "    </tr>\n",
       "    <tr>\n",
       "      <th>3</th>\n",
       "      <td>1</td>\n",
       "      <td>0</td>\n",
       "      <td>0</td>\n",
       "      <td>1</td>\n",
       "      <td>1</td>\n",
       "      <td>0.200000</td>\n",
       "      <td>0.590435</td>\n",
       "      <td>0.160296</td>\n",
       "    </tr>\n",
       "    <tr>\n",
       "      <th>4</th>\n",
       "      <td>1</td>\n",
       "      <td>0</td>\n",
       "      <td>0</td>\n",
       "      <td>1</td>\n",
       "      <td>1</td>\n",
       "      <td>0.226957</td>\n",
       "      <td>0.436957</td>\n",
       "      <td>0.186900</td>\n",
       "    </tr>\n",
       "  </tbody>\n",
       "</table>\n",
       "</div>"
      ],
      "text/plain": [
       "   season  yr  holiday  workingday  weathersit      temp       hum  windspeed\n",
       "0       1   0        0           0           2  0.344167  0.805833   0.160446\n",
       "1       1   0        0           0           2  0.363478  0.696087   0.248539\n",
       "2       1   0        0           1           1  0.196364  0.437273   0.248309\n",
       "3       1   0        0           1           1  0.200000  0.590435   0.160296\n",
       "4       1   0        0           1           1  0.226957  0.436957   0.186900"
      ]
     },
     "execution_count": 58,
     "metadata": {},
     "output_type": "execute_result"
    }
   ],
   "source": [
    "dataframe_X.head()"
   ]
  },
  {
   "cell_type": "code",
   "execution_count": 59,
   "metadata": {},
   "outputs": [
    {
     "name": "stdout",
     "output_type": "stream",
     "text": [
      "R2 (Correlation coefficient ):  0.7969806734307076\n",
      "Mean absolute error:  644.3750930704\n",
      "Root mean squared error:  853.0350122668555\n",
      "Max Error:  3593.8736683440966\n"
     ]
    },
    {
     "data": {
      "image/png": "[encoded data removed]",
      "text/plain": [
       "<Figure size 432x288 with 1 Axes>"
      ]
     },
     "metadata": {
      "needs_background": "light"
     },
     "output_type": "display_data"
    }
   ],
   "source": [
    "from sklearn.linear_model import LinearRegression\n",
    "from sklearn.metrics import mean_squared_error\n",
    "from sklearn.model_selection import train_test_split\n",
    "from sklearn.metrics import mean_absolute_error, accuracy_score, r2_score, max_error\n",
    "import math\n",
    "\n",
    "dataframe_y = dataframe.cnt\n",
    "dataframe_X = dataframe.drop(['instant','cnt','registered','casual','dteday','weekday','mnth', 'atemp'], axis=1)\n",
    "#dataframe_X['seasonWithWeatherSit'] = seasonWithWeatherSit\n",
    "\n",
    "x_train, x_test, y_train, y_test = train_test_split(dataframe_X, dataframe_y, test_size = 0.2, random_state = 3)\n",
    "\n",
    "model = LinearRegression()\n",
    "\n",
    "# 6. Model füllen mit train daten\n",
    "model.fit(x_train, y_train)\n",
    "\n",
    "# 7. Vorhersage mit Testdaten\n",
    "y_vorhersage = model.predict(x_test)\n",
    "\n",
    "r2Score = r2_score(y_test, y_vorhersage)\n",
    "print('R2 (Correlation coefficient ): ', r2Score)\n",
    "\n",
    "mae = mean_absolute_error(y_test, y_vorhersage)\n",
    "print('Mean absolute error: ', mae)\n",
    "    \n",
    "mse = mean_squared_error(y_test, y_vorhersage,squared=True)\n",
    "mse = math.sqrt(mse)\n",
    "print('Root mean squared error: ', mse)\n",
    "    \n",
    "maxerror = max_error(y_test, y_vorhersage)\n",
    "print('Max Error: ', maxerror)\n",
    "    \n",
    "plt.pyplot.scatter(y_vorhersage, y_test)\n",
    "    \n",
    "minimum = math.ceil(min(y_test))\n",
    "maximum = math.ceil(max(y_test))\n",
    "    \n",
    "plt.pyplot.plot( [minimum,maximum],[minimum,maximum], color='red')\n",
    "plt.pyplot.xlabel('Vorhersage')\n",
    "plt.pyplot.ylabel('korrekter Werte')\n",
    "plt.pyplot.show()"
   ]
  },
  {
   "cell_type": "code",
   "execution_count": 60,
   "metadata": {},
   "outputs": [
    {
     "data": {
      "text/html": [
       "<div>\n",
       "<style scoped>\n",
       "    .dataframe tbody tr th:only-of-type {\n",
       "        vertical-align: middle;\n",
       "    }\n",
       "\n",
       "    .dataframe tbody tr th {\n",
       "        vertical-align: top;\n",
       "    }\n",
       "\n",
       "    .dataframe thead th {\n",
       "        text-align: right;\n",
       "    }\n",
       "</style>\n",
       "<table border=\"1\" class=\"dataframe\">\n",
       "  <thead>\n",
       "    <tr style=\"text-align: right;\">\n",
       "      <th></th>\n",
       "      <th>season</th>\n",
       "      <th>yr</th>\n",
       "      <th>holiday</th>\n",
       "      <th>workingday</th>\n",
       "      <th>weathersit</th>\n",
       "      <th>temp</th>\n",
       "      <th>hum</th>\n",
       "      <th>windspeed</th>\n",
       "    </tr>\n",
       "  </thead>\n",
       "  <tbody>\n",
       "    <tr>\n",
       "      <th>0</th>\n",
       "      <td>1</td>\n",
       "      <td>0</td>\n",
       "      <td>0</td>\n",
       "      <td>0</td>\n",
       "      <td>2</td>\n",
       "      <td>0.344167</td>\n",
       "      <td>0.805833</td>\n",
       "      <td>0.160446</td>\n",
       "    </tr>\n",
       "    <tr>\n",
       "      <th>1</th>\n",
       "      <td>1</td>\n",
       "      <td>0</td>\n",
       "      <td>0</td>\n",
       "      <td>0</td>\n",
       "      <td>2</td>\n",
       "      <td>0.363478</td>\n",
       "      <td>0.696087</td>\n",
       "      <td>0.248539</td>\n",
       "    </tr>\n",
       "    <tr>\n",
       "      <th>2</th>\n",
       "      <td>1</td>\n",
       "      <td>0</td>\n",
       "      <td>0</td>\n",
       "      <td>1</td>\n",
       "      <td>1</td>\n",
       "      <td>0.196364</td>\n",
       "      <td>0.437273</td>\n",
       "      <td>0.248309</td>\n",
       "    </tr>\n",
       "    <tr>\n",
       "      <th>3</th>\n",
       "      <td>1</td>\n",
       "      <td>0</td>\n",
       "      <td>0</td>\n",
       "      <td>1</td>\n",
       "      <td>1</td>\n",
       "      <td>0.200000</td>\n",
       "      <td>0.590435</td>\n",
       "      <td>0.160296</td>\n",
       "    </tr>\n",
       "    <tr>\n",
       "      <th>4</th>\n",
       "      <td>1</td>\n",
       "      <td>0</td>\n",
       "      <td>0</td>\n",
       "      <td>1</td>\n",
       "      <td>1</td>\n",
       "      <td>0.226957</td>\n",
       "      <td>0.436957</td>\n",
       "      <td>0.186900</td>\n",
       "    </tr>\n",
       "  </tbody>\n",
       "</table>\n",
       "</div>"
      ],
      "text/plain": [
       "   season  yr  holiday  workingday  weathersit      temp       hum  windspeed\n",
       "0       1   0        0           0           2  0.344167  0.805833   0.160446\n",
       "1       1   0        0           0           2  0.363478  0.696087   0.248539\n",
       "2       1   0        0           1           1  0.196364  0.437273   0.248309\n",
       "3       1   0        0           1           1  0.200000  0.590435   0.160296\n",
       "4       1   0        0           1           1  0.226957  0.436957   0.186900"
      ]
     },
     "execution_count": 60,
     "metadata": {},
     "output_type": "execute_result"
    }
   ],
   "source": [
    "dataframe_X.head()"
   ]
  },
  {
   "cell_type": "code",
   "execution_count": 61,
   "metadata": {},
   "outputs": [
    {
     "name": "stdout",
     "output_type": "stream",
     "text": [
      "\n",
      "\n",
      "Fold Nummer:  0\n",
      "R2 (Correlation coefficient ):  0.6836139080595027\n",
      "Mean absolute error:  802.507143251365\n",
      "Root mean squared error:  1070.5527730590807\n",
      "Max Error:  3314.9131498367933\n"
     ]
    },
    {
     "data": {
      "image/png": "[encoded data removed]",
      "text/plain": [
       "<Figure size 432x288 with 1 Axes>"
      ]
     },
     "metadata": {
      "needs_background": "light"
     },
     "output_type": "display_data"
    },
    {
     "name": "stdout",
     "output_type": "stream",
     "text": [
      "\n",
      "\n",
      "Fold Nummer:  1\n",
      "R2 (Correlation coefficient ):  0.8484106427792705\n",
      "Mean absolute error:  619.6016436821591\n",
      "Root mean squared error:  799.0376835622164\n",
      "Max Error:  2305.04487145589\n"
     ]
    },
    {
     "data": {
      "image/png": "[encoded data removed]",
      "text/plain": [
       "<Figure size 432x288 with 1 Axes>"
      ]
     },
     "metadata": {
      "needs_background": "light"
     },
     "output_type": "display_data"
    },
    {
     "name": "stdout",
     "output_type": "stream",
     "text": [
      "\n",
      "\n",
      "Fold Nummer:  2\n",
      "R2 (Correlation coefficient ):  0.8164940025636878\n",
      "Mean absolute error:  576.6519852978709\n",
      "Root mean squared error:  759.5955920522543\n",
      "Max Error:  3012.9935276262895\n"
     ]
    },
    {
     "data": {
      "image/png": "[encoded data removed]",
      "text/plain": [
       "<Figure size 432x288 with 1 Axes>"
      ]
     },
     "metadata": {
      "needs_background": "light"
     },
     "output_type": "display_data"
    },
    {
     "name": "stdout",
     "output_type": "stream",
     "text": [
      "\n",
      "\n",
      "Fold Nummer:  3\n",
      "R2 (Correlation coefficient ):  0.7568555052774628\n",
      "Mean absolute error:  712.9767743146225\n",
      "Root mean squared error:  987.842054148987\n",
      "Max Error:  4441.262649976996\n"
     ]
    },
    {
     "data": {
      "image/png": "[encoded data removed]",
      "text/plain": [
       "<Figure size 432x288 with 1 Axes>"
      ]
     },
     "metadata": {
      "needs_background": "light"
     },
     "output_type": "display_data"
    },
    {
     "name": "stdout",
     "output_type": "stream",
     "text": [
      "\n",
      "\n",
      "Fold Nummer:  4\n",
      "R2 (Correlation coefficient ):  0.8141996163604867\n",
      "Mean absolute error:  609.8536426466968\n",
      "Root mean squared error:  816.1763954803295\n",
      "Max Error:  3175.1135870580283\n"
     ]
    },
    {
     "data": {
      "image/png": "[encoded data removed]",
      "text/plain": [
       "<Figure size 432x288 with 1 Axes>"
      ]
     },
     "metadata": {
      "needs_background": "light"
     },
     "output_type": "display_data"
    },
    {
     "name": "stdout",
     "output_type": "stream",
     "text": [
      "avgR2: 0.7839147350080821\n",
      "avgMAE: 664.3182378385429\n",
      "avgRMSE: 886.6408996605735\n",
      "avgMaxError: 3249.8655571907993\n"
     ]
    }
   ],
   "source": [
    "from sklearn.model_selection import train_test_split, KFold, cross_val_score\n",
    "from sklearn.metrics import accuracy_score, confusion_matrix, classification_report, fbeta_score\n",
    "from sklearn.model_selection import KFold\n",
    "from sklearn.metrics import mean_absolute_error, accuracy_score, r2_score, max_error\n",
    "# from sklearn.metrics import mean_absolute_percentage_error\n",
    "\n",
    "gesamtR2,gesamtMAE,gesamtRMSE,gesamtMaxError=0,0,0,0\n",
    "\n",
    "randomSeed = 7\n",
    "numSplits=5\n",
    "kfold = KFold(n_splits=numSplits, shuffle = True, random_state=7)\n",
    "indexFold = 0\n",
    "\n",
    "\n",
    "for train_index, test_index in kfold.split(dataframe_X, dataframe_y):    \n",
    "    x_train, x_test = dataframe_X.iloc[list(train_index)], dataframe_X.iloc[list(test_index)]\n",
    "    y_train, y_test = dataframe_y.iloc[list(train_index)], dataframe_y.iloc[list(test_index)]\n",
    "\n",
    "    # Linear Regression\n",
    "    linearR = LinearRegression()\n",
    "\n",
    "    # daten füllen aus dem Folds\n",
    "    model = linearR.fit(x_train, y_train)\n",
    "    \n",
    "    y_pred = model.predict(x_test)\n",
    "\n",
    "    print('\\n')\n",
    "    print('Fold Nummer: ', indexFold)\n",
    "    r2Score = r2_score(y_test, y_pred)\n",
    "    gesamtR2+=r2Score\n",
    "    print('R2 (Correlation coefficient ): ', r2Score)\n",
    "\n",
    "    mae = mean_absolute_error(y_test, y_pred)\n",
    "    gesamtMAE+=mae\n",
    "    print('Mean absolute error: ', mae)\n",
    "    \n",
    "    mse = mean_squared_error(y_test, y_pred,squared=True)\n",
    "    rmse = math.sqrt(mse)\n",
    "    gesamtRMSE+=rmse\n",
    "    print('Root mean squared error: ', rmse)\n",
    "    \n",
    "    maxerror = max_error(y_test, y_pred)\n",
    "    gesamtMaxError+=maxerror\n",
    "    print('Max Error: ', maxerror)\n",
    "    \n",
    "    # Ab version 2.4 möglich\n",
    "#     mape = mean_absolute_percentage_error(y_true, y_pred)\n",
    "#     print('Mean Absolute Percentage Error: ', mape)\n",
    "    \n",
    "    plt.pyplot.scatter(y_pred, y_test)\n",
    "    \n",
    "    minimum = math.ceil(min(y_test))\n",
    "    maximum = math.ceil(max(y_test))\n",
    "    \n",
    "    plt.pyplot.plot( [minimum,maximum],[minimum,maximum], color='red')\n",
    "    plt.pyplot.xlabel('Vorhersage')\n",
    "    plt.pyplot.ylabel('korrekter Werte')\n",
    "    plt.pyplot.show()\n",
    "    \n",
    "    indexFold = indexFold + 1\n",
    "\n",
    "avgR2=gesamtR2/numSplits\n",
    "avgMAE=gesamtMAE/numSplits\n",
    "avgRMSE=gesamtRMSE/numSplits\n",
    "avgMaxError=gesamtMaxError/numSplits\n",
    "\n",
    "\n",
    "print(\"avgR2:\",avgR2)\n",
    "print(\"avgMAE:\",avgMAE)\n",
    "print(\"avgRMSE:\",avgRMSE)\n",
    "print(\"avgMaxError:\",avgMaxError)\n",
    "\n"
   ]
  },
  {
   "cell_type": "code",
   "execution_count": null,
   "metadata": {},
   "outputs": [],
   "source": []
  }
 ],
 "metadata": {
  "kernelspec": {
   "display_name": "Python 3",
   "language": "python",
   "name": "python3"
  },
  "language_info": {
   "codemirror_mode": {
    "name": "ipython",
    "version": 3
   },
   "file_extension": ".py",
   "mimetype": "text/x-python",
   "name": "python",
   "nbconvert_exporter": "python",
   "pygments_lexer": "ipython3",
   "version": "3.8.5"
  }
 },
 "nbformat": 4,
 "nbformat_minor": 4
}
